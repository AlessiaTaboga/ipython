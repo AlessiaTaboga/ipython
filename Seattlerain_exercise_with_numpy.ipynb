{
 "cells": [
  {
   "cell_type": "markdown",
   "metadata": {},
   "source": [
    "Exercise on Rainfall in Seattle 2014\n",
    "(using Numpy)"
   ]
  },
  {
   "cell_type": "code",
   "execution_count": 1,
   "metadata": {
    "collapsed": true
   },
   "outputs": [],
   "source": [
    "import numpy as np\n",
    "import pandas as pd"
   ]
  },
  {
   "cell_type": "code",
   "execution_count": 2,
   "metadata": {
    "collapsed": true
   },
   "outputs": [],
   "source": [
    "# reading Seattle2014.csv copied in same folder where I am running this jupyter notebook\n",
    "rainfall = pd.read_csv('Seattle2014.csv')['PRCP'].values"
   ]
  },
  {
   "cell_type": "code",
   "execution_count": 3,
   "metadata": {
    "collapsed": false
   },
   "outputs": [
    {
     "data": {
      "text/plain": [
       "array([  0,  41,  15,   0,   0,   3, 122,  97,  58,  43, 213,  15,   0,\n",
       "         0,   0,   0,   0,   0,   0,   0,   0,   5,   0,   0,   0,   0,\n",
       "         0,  89, 216,   0,  23,  20,   0,   0,   0,   0,   0,   0,  51,\n",
       "         5, 183, 170,  46,  18,  94, 117, 264, 145, 152,  10,  30,  28,\n",
       "        25,  61, 130,   3,   0,   0,   0,   5, 191, 107, 165, 467,  30,\n",
       "         0, 323,  43, 188,   0,   0,   5,  69,  81, 277,   3,   0,   5,\n",
       "         0,   0,   0,   0,   0,  41,  36,   3, 221, 140,   0,   0,   0,\n",
       "         0,  25,   0,  46,   0,   0,  46,   0,   0,   0,   0,   0,   0,\n",
       "         5, 109, 185,   0, 137,   0,  51, 142,  89, 124,   0,  33,  69,\n",
       "         0,   0,   0,   0,   0, 333, 160,  51,   0,   0, 137,  20,   5,\n",
       "         0,   0,   0,   0,   0,   0,   0,   0,   0,   0,   0,   0,  38,\n",
       "         0,  56,   0,   0,   0,   0,   0,   0,   0,   0,   0,   0,   0,\n",
       "         0,   0,   0,   0,   0,   0,  18,  64,   0,   5,  36,  13,   0,\n",
       "         8,   3,   0,   0,   0,   0,   0,   0,  18,  23,   0,   0,   0,\n",
       "         0,   0,   0,   0,   0,   0,   0,   0,   0,   0,   0,   0,   0,\n",
       "         0,   0,   0,   0,   0,   0,   0,   3, 193,   0,   0,   0,   0,\n",
       "         0,   0,   0,   0,   0,   5,   0,   0,   0,   0,   0,   0,   0,\n",
       "         0,   5, 127, 216,   0,  10,   0,   0,   0,   0,   0,   0,   0,\n",
       "         0,   0,   0,   0,   0,   0,   0,  84,  13,   0,  30,   0,   0,\n",
       "         0,   0,   0,   0,   0,   0,   0,   0,   0,   0,   0,   0,   5,\n",
       "         3,   0,   0,   0,   3, 183, 203,  43,  89,   0,   0,   8,   0,\n",
       "         0,   0,   0,   0,   0,   0,   0,   0,   0,   3,  74,   0,  76,\n",
       "        71,  86,   0,  33, 150,   0, 117,  10, 320,  94,  41,  61,  15,\n",
       "         8, 127,   5, 254, 170,   0,  18, 109,  41,  48,  41,   0,   0,\n",
       "        51,   0,   0,   0,   0,   0,   0,   0,   0,   0,   0,  36, 152,\n",
       "         5, 119,  13, 183,   3,  33, 343,  36,   0,   0,   0,   0,   8,\n",
       "        30,  74,   0,  91,  99, 130,  69,   0,   0,   0,   0,   0,  28,\n",
       "       130,  30, 196,   0,   0, 206,  53,   0,   0,  33,  41,   0,   0,   0], dtype=int64)"
      ]
     },
     "execution_count": 3,
     "metadata": {},
     "output_type": "execute_result"
    }
   ],
   "source": [
    "rainfall"
   ]
  },
  {
   "cell_type": "code",
   "execution_count": 4,
   "metadata": {
    "collapsed": false
   },
   "outputs": [
    {
     "data": {
      "text/plain": [
       "365"
      ]
     },
     "execution_count": 4,
     "metadata": {},
     "output_type": "execute_result"
    }
   ],
   "source": [
    "len(rainfall)"
   ]
  },
  {
   "cell_type": "code",
   "execution_count": 5,
   "metadata": {
    "collapsed": true
   },
   "outputs": [],
   "source": [
    "# numbers in array above represent daily rainfall in mm for Seattle for 2014"
   ]
  },
  {
   "cell_type": "code",
   "execution_count": 6,
   "metadata": {
    "collapsed": true
   },
   "outputs": [],
   "source": [
    "%matplotlib inline\n",
    "import matplotlib.pyplot as plt"
   ]
  },
  {
   "cell_type": "code",
   "execution_count": 7,
   "metadata": {
    "collapsed": false
   },
   "outputs": [
    {
     "data": {
      "text/plain": [
       "(array([ 259.,   30.,   14.,   11.,    7.,   13.,    6.,    7.,    6.,\n",
       "           4.,    1.,    2.,    0.,    2.,    2.,    0.,    0.,    0.,\n",
       "           0.,    1.]),\n",
       " array([   0.  ,   23.35,   46.7 ,   70.05,   93.4 ,  116.75,  140.1 ,\n",
       "         163.45,  186.8 ,  210.15,  233.5 ,  256.85,  280.2 ,  303.55,\n",
       "         326.9 ,  350.25,  373.6 ,  396.95,  420.3 ,  443.65,  467.  ]),\n",
       " <a list of 20 Patch objects>)"
      ]
     },
     "execution_count": 7,
     "metadata": {},
     "output_type": "execute_result"
    },
    {
     "data": {
      "image/png": "[encoded data removed]",
      "text/plain": [
       "<matplotlib.figure.Figure at 0x15ed93664e0>"
      ]
     },
     "metadata": {},
     "output_type": "display_data"
    }
   ],
   "source": [
    "plt.hist(rainfall,20)"
   ]
  },
  {
   "cell_type": "code",
   "execution_count": 8,
   "metadata": {
    "collapsed": true
   },
   "outputs": [],
   "source": [
    "# x axis is the mm of rain\n",
    "# y axis is the num of days"
   ]
  },
  {
   "cell_type": "code",
   "execution_count": 9,
   "metadata": {
    "collapsed": true
   },
   "outputs": [],
   "source": [
    "# EXERCISE: QUESTIONS\n",
    "# Q1: generate the rainfall in inches for each day (1 inch is 25.4mm)\n",
    "# Q2: number of days without rain\n",
    "# Q3: days with more than 0.5 inches of rain\n",
    "# Q4: rainy days with <0.1 inches rain\n",
    "# Q5: median precip on rainy days in 2014 (inches)\n",
    "# Q6: media precip on summer days in 2014 (inches)\n",
    "# Q7: maximum precip on summer days in 2014 (inches)\n",
    "# Q8: media precip on non-summer rainy days (inches)"
   ]
  },
  {
   "cell_type": "code",
   "execution_count": 10,
   "metadata": {
    "collapsed": false
   },
   "outputs": [
    {
     "data": {
      "text/plain": [
       "array([  0.        ,   1.61417323,   0.59055118,   0.        ,\n",
       "         0.        ,   0.11811024,   4.80314961,   3.81889764,\n",
       "         2.28346457,   1.69291339,   8.38582677,   0.59055118,\n",
       "         0.        ,   0.        ,   0.        ,   0.        ,\n",
       "         0.        ,   0.        ,   0.        ,   0.        ,\n",
       "         0.        ,   0.19685039,   0.        ,   0.        ,\n",
       "         0.        ,   0.        ,   0.        ,   3.50393701,\n",
       "         8.50393701,   0.        ,   0.90551181,   0.78740157,\n",
       "         0.        ,   0.        ,   0.        ,   0.        ,\n",
       "         0.        ,   0.        ,   2.00787402,   0.19685039,\n",
       "         7.20472441,   6.69291339,   1.81102362,   0.70866142,\n",
       "         3.7007874 ,   4.60629921,  10.39370079,   5.70866142,\n",
       "         5.98425197,   0.39370079,   1.18110236,   1.1023622 ,\n",
       "         0.98425197,   2.4015748 ,   5.11811024,   0.11811024,\n",
       "         0.        ,   0.        ,   0.        ,   0.19685039,\n",
       "         7.51968504,   4.21259843,   6.49606299,  18.38582677,\n",
       "         1.18110236,   0.        ,  12.71653543,   1.69291339,\n",
       "         7.4015748 ,   0.        ,   0.        ,   0.19685039,\n",
       "         2.71653543,   3.18897638,  10.90551181,   0.11811024,\n",
       "         0.        ,   0.19685039,   0.        ,   0.        ,\n",
       "         0.        ,   0.        ,   0.        ,   1.61417323,\n",
       "         1.41732283,   0.11811024,   8.7007874 ,   5.51181102,\n",
       "         0.        ,   0.        ,   0.        ,   0.        ,\n",
       "         0.98425197,   0.        ,   1.81102362,   0.        ,\n",
       "         0.        ,   1.81102362,   0.        ,   0.        ,\n",
       "         0.        ,   0.        ,   0.        ,   0.        ,\n",
       "         0.19685039,   4.29133858,   7.28346457,   0.        ,\n",
       "         5.39370079,   0.        ,   2.00787402,   5.59055118,\n",
       "         3.50393701,   4.88188976,   0.        ,   1.2992126 ,\n",
       "         2.71653543,   0.        ,   0.        ,   0.        ,\n",
       "         0.        ,   0.        ,  13.11023622,   6.2992126 ,\n",
       "         2.00787402,   0.        ,   0.        ,   5.39370079,\n",
       "         0.78740157,   0.19685039,   0.        ,   0.        ,\n",
       "         0.        ,   0.        ,   0.        ,   0.        ,\n",
       "         0.        ,   0.        ,   0.        ,   0.        ,\n",
       "         0.        ,   0.        ,   1.49606299,   0.        ,\n",
       "         2.20472441,   0.        ,   0.        ,   0.        ,\n",
       "         0.        ,   0.        ,   0.        ,   0.        ,\n",
       "         0.        ,   0.        ,   0.        ,   0.        ,\n",
       "         0.        ,   0.        ,   0.        ,   0.        ,\n",
       "         0.        ,   0.        ,   0.70866142,   2.51968504,\n",
       "         0.        ,   0.19685039,   1.41732283,   0.51181102,\n",
       "         0.        ,   0.31496063,   0.11811024,   0.        ,\n",
       "         0.        ,   0.        ,   0.        ,   0.        ,\n",
       "         0.        ,   0.70866142,   0.90551181,   0.        ,\n",
       "         0.        ,   0.        ,   0.        ,   0.        ,\n",
       "         0.        ,   0.        ,   0.        ,   0.        ,\n",
       "         0.        ,   0.        ,   0.        ,   0.        ,\n",
       "         0.        ,   0.        ,   0.        ,   0.        ,\n",
       "         0.        ,   0.        ,   0.        ,   0.        ,\n",
       "         0.        ,   0.        ,   0.11811024,   7.5984252 ,\n",
       "         0.        ,   0.        ,   0.        ,   0.        ,\n",
       "         0.        ,   0.        ,   0.        ,   0.        ,\n",
       "         0.        ,   0.19685039,   0.        ,   0.        ,\n",
       "         0.        ,   0.        ,   0.        ,   0.        ,\n",
       "         0.        ,   0.        ,   0.19685039,   5.        ,\n",
       "         8.50393701,   0.        ,   0.39370079,   0.        ,\n",
       "         0.        ,   0.        ,   0.        ,   0.        ,\n",
       "         0.        ,   0.        ,   0.        ,   0.        ,\n",
       "         0.        ,   0.        ,   0.        ,   0.        ,\n",
       "         0.        ,   3.30708661,   0.51181102,   0.        ,\n",
       "         1.18110236,   0.        ,   0.        ,   0.        ,\n",
       "         0.        ,   0.        ,   0.        ,   0.        ,\n",
       "         0.        ,   0.        ,   0.        ,   0.        ,\n",
       "         0.        ,   0.        ,   0.        ,   0.19685039,\n",
       "         0.11811024,   0.        ,   0.        ,   0.        ,\n",
       "         0.11811024,   7.20472441,   7.99212598,   1.69291339,\n",
       "         3.50393701,   0.        ,   0.        ,   0.31496063,\n",
       "         0.        ,   0.        ,   0.        ,   0.        ,\n",
       "         0.        ,   0.        ,   0.        ,   0.        ,\n",
       "         0.        ,   0.        ,   0.11811024,   2.91338583,\n",
       "         0.        ,   2.99212598,   2.79527559,   3.38582677,\n",
       "         0.        ,   1.2992126 ,   5.90551181,   0.        ,\n",
       "         4.60629921,   0.39370079,  12.5984252 ,   3.7007874 ,\n",
       "         1.61417323,   2.4015748 ,   0.59055118,   0.31496063,\n",
       "         5.        ,   0.19685039,  10.        ,   6.69291339,\n",
       "         0.        ,   0.70866142,   4.29133858,   1.61417323,\n",
       "         1.88976378,   1.61417323,   0.        ,   0.        ,\n",
       "         2.00787402,   0.        ,   0.        ,   0.        ,\n",
       "         0.        ,   0.        ,   0.        ,   0.        ,\n",
       "         0.        ,   0.        ,   0.        ,   1.41732283,\n",
       "         5.98425197,   0.19685039,   4.68503937,   0.51181102,\n",
       "         7.20472441,   0.11811024,   1.2992126 ,  13.50393701,\n",
       "         1.41732283,   0.        ,   0.        ,   0.        ,\n",
       "         0.        ,   0.31496063,   1.18110236,   2.91338583,\n",
       "         0.        ,   3.58267717,   3.8976378 ,   5.11811024,\n",
       "         2.71653543,   0.        ,   0.        ,   0.        ,\n",
       "         0.        ,   0.        ,   1.1023622 ,   5.11811024,\n",
       "         1.18110236,   7.71653543,   0.        ,   0.        ,\n",
       "         8.11023622,   2.08661417,   0.        ,   0.        ,\n",
       "         1.2992126 ,   1.61417323,   0.        ,   0.        ,   0.        ])"
      ]
     },
     "execution_count": 10,
     "metadata": {},
     "output_type": "execute_result"
    }
   ],
   "source": [
    "# Q1: generate the rainfall in inches for each day (1 inch is 25.4mm)\n",
    "q1_rain_inch =  rainfall/25.4\n",
    "q1_rain_inch"
   ]
  },
  {
   "cell_type": "code",
   "execution_count": 11,
   "metadata": {
    "collapsed": false
   },
   "outputs": [
    {
     "data": {
      "text/plain": [
       "215"
      ]
     },
     "execution_count": 11,
     "metadata": {},
     "output_type": "execute_result"
    }
   ],
   "source": [
    "# Q2: number of days without rain\n",
    "np.sum(q1_rain_inch==0)"
   ]
  },
  {
   "cell_type": "code",
   "execution_count": 12,
   "metadata": {
    "collapsed": false
   },
   "outputs": [
    {
     "data": {
      "text/plain": [
       "120"
      ]
     },
     "execution_count": 12,
     "metadata": {},
     "output_type": "execute_result"
    }
   ],
   "source": [
    "# Q3: days with more than 0.5 inches of rain\n",
    "np.sum(q1_rain_inch>0.5)"
   ]
  },
  {
   "cell_type": "code",
   "execution_count": 13,
   "metadata": {
    "collapsed": false
   },
   "outputs": [
    {
     "data": {
      "text/plain": [
       "215"
      ]
     },
     "execution_count": 13,
     "metadata": {},
     "output_type": "execute_result"
    }
   ],
   "source": [
    "# Q4: rainy days with <0.1 inches rain\n",
    "np.sum(q1_rain_inch<0.1)"
   ]
  },
  {
   "cell_type": "code",
   "execution_count": 14,
   "metadata": {
    "collapsed": false
   },
   "outputs": [
    {
     "data": {
      "text/plain": [
       "array([  1.61417323,   0.59055118,   0.11811024,   4.80314961,\n",
       "         3.81889764,   2.28346457,   1.69291339,   8.38582677,\n",
       "         0.59055118,   0.19685039,   3.50393701,   8.50393701,\n",
       "         0.90551181,   0.78740157,   2.00787402,   0.19685039,\n",
       "         7.20472441,   6.69291339,   1.81102362,   0.70866142,\n",
       "         3.7007874 ,   4.60629921,  10.39370079,   5.70866142,\n",
       "         5.98425197,   0.39370079,   1.18110236,   1.1023622 ,\n",
       "         0.98425197,   2.4015748 ,   5.11811024,   0.11811024,\n",
       "         0.19685039,   7.51968504,   4.21259843,   6.49606299,\n",
       "        18.38582677,   1.18110236,  12.71653543,   1.69291339,\n",
       "         7.4015748 ,   0.19685039,   2.71653543,   3.18897638,\n",
       "        10.90551181,   0.11811024,   0.19685039,   1.61417323,\n",
       "         1.41732283,   0.11811024,   8.7007874 ,   5.51181102,\n",
       "         0.98425197,   1.81102362,   1.81102362,   0.19685039,\n",
       "         4.29133858,   7.28346457,   5.39370079,   2.00787402,\n",
       "         5.59055118,   3.50393701,   4.88188976,   1.2992126 ,\n",
       "         2.71653543,  13.11023622,   6.2992126 ,   2.00787402,\n",
       "         5.39370079,   0.78740157,   0.19685039,   1.49606299,\n",
       "         2.20472441,   0.70866142,   2.51968504,   0.19685039,\n",
       "         1.41732283,   0.51181102,   0.31496063,   0.11811024,\n",
       "         0.70866142,   0.90551181,   0.11811024,   7.5984252 ,\n",
       "         0.19685039,   0.19685039,   5.        ,   8.50393701,\n",
       "         0.39370079,   3.30708661,   0.51181102,   1.18110236,\n",
       "         0.19685039,   0.11811024,   0.11811024,   7.20472441,\n",
       "         7.99212598,   1.69291339,   3.50393701,   0.31496063,\n",
       "         0.11811024,   2.91338583,   2.99212598,   2.79527559,\n",
       "         3.38582677,   1.2992126 ,   5.90551181,   4.60629921,\n",
       "         0.39370079,  12.5984252 ,   3.7007874 ,   1.61417323,\n",
       "         2.4015748 ,   0.59055118,   0.31496063,   5.        ,\n",
       "         0.19685039,  10.        ,   6.69291339,   0.70866142,\n",
       "         4.29133858,   1.61417323,   1.88976378,   1.61417323,\n",
       "         2.00787402,   1.41732283,   5.98425197,   0.19685039,\n",
       "         4.68503937,   0.51181102,   7.20472441,   0.11811024,\n",
       "         1.2992126 ,  13.50393701,   1.41732283,   0.31496063,\n",
       "         1.18110236,   2.91338583,   3.58267717,   3.8976378 ,\n",
       "         5.11811024,   2.71653543,   1.1023622 ,   5.11811024,\n",
       "         1.18110236,   7.71653543,   8.11023622,   2.08661417,\n",
       "         1.2992126 ,   1.61417323])"
      ]
     },
     "execution_count": 14,
     "metadata": {},
     "output_type": "execute_result"
    }
   ],
   "source": [
    "# Q5: median precip on rainy days in 2014 (inches)\n",
    "# it is better to define mask outside\n",
    "rainy_days = q1_rain_inch>0\n",
    "q5_rainy_days=q1_rain_inch[rainy_days]\n",
    "q5_rainy_days"
   ]
  },
  {
   "cell_type": "code",
   "execution_count": 15,
   "metadata": {
    "collapsed": false
   },
   "outputs": [
    {
     "data": {
      "text/plain": [
       "1.9488188976377954"
      ]
     },
     "execution_count": 15,
     "metadata": {},
     "output_type": "execute_result"
    }
   ],
   "source": [
    "q5_median=np.median(q5_rainy_days)\n",
    "q5_median"
   ]
  },
  {
   "cell_type": "code",
   "execution_count": 16,
   "metadata": {
    "collapsed": false
   },
   "outputs": [
    {
     "data": {
      "text/plain": [
       "0.61023622047244097"
      ]
     },
     "execution_count": 16,
     "metadata": {},
     "output_type": "execute_result"
    }
   ],
   "source": [
    "# Q6: media precip on summer days in 2014 (inches)\n",
    "rainy_days = (q1_rain_inch>0)\n",
    "summer_days= (np.arange(365)-172 <90) & (np.arange(365)-172>0)\n",
    "np.median(q1_rain_inch[rainy_days & summer_days])"
   ]
  },
  {
   "cell_type": "code",
   "execution_count": 17,
   "metadata": {
    "collapsed": false
   },
   "outputs": [
    {
     "data": {
      "text/plain": [
       "array([  0,   1,   2,   3,   4,   5,   6,   7,   8,   9,  10,  11,  12,\n",
       "        13,  14,  15,  16,  17,  18,  19,  20,  21,  22,  23,  24,  25,\n",
       "        26,  27,  28,  29,  30,  31,  32,  33,  34,  35,  36,  37,  38,\n",
       "        39,  40,  41,  42,  43,  44,  45,  46,  47,  48,  49,  50,  51,\n",
       "        52,  53,  54,  55,  56,  57,  58,  59,  60,  61,  62,  63,  64,\n",
       "        65,  66,  67,  68,  69,  70,  71,  72,  73,  74,  75,  76,  77,\n",
       "        78,  79,  80,  81,  82,  83,  84,  85,  86,  87,  88,  89,  90,\n",
       "        91,  92,  93,  94,  95,  96,  97,  98,  99, 100, 101, 102, 103,\n",
       "       104, 105, 106, 107, 108, 109, 110, 111, 112, 113, 114, 115, 116,\n",
       "       117, 118, 119, 120, 121, 122, 123, 124, 125, 126, 127, 128, 129,\n",
       "       130, 131, 132, 133, 134, 135, 136, 137, 138, 139, 140, 141, 142,\n",
       "       143, 144, 145, 146, 147, 148, 149, 150, 151, 152, 153, 154, 155,\n",
       "       156, 157, 158, 159, 160, 161, 162, 163, 164, 165, 166, 167, 168,\n",
       "       169, 170, 171, 172, 173, 174, 175, 176, 177, 178, 179, 180, 181,\n",
       "       182, 183, 184, 185, 186, 187, 188, 189, 190, 191, 192, 193, 194,\n",
       "       195, 196, 197, 198, 199, 200, 201, 202, 203, 204, 205, 206, 207,\n",
       "       208, 209, 210, 211, 212, 213, 214, 215, 216, 217, 218, 219, 220,\n",
       "       221, 222, 223, 224, 225, 226, 227, 228, 229, 230, 231, 232, 233,\n",
       "       234, 235, 236, 237, 238, 239, 240, 241, 242, 243, 244, 245, 246,\n",
       "       247, 248, 249, 250, 251, 252, 253, 254, 255, 256, 257, 258, 259,\n",
       "       260, 261, 262, 263, 264, 265, 266, 267, 268, 269, 270, 271, 272,\n",
       "       273, 274, 275, 276, 277, 278, 279, 280, 281, 282, 283, 284, 285,\n",
       "       286, 287, 288, 289, 290, 291, 292, 293, 294, 295, 296, 297, 298,\n",
       "       299, 300, 301, 302, 303, 304, 305, 306, 307, 308, 309, 310, 311,\n",
       "       312, 313, 314, 315, 316, 317, 318, 319, 320, 321, 322, 323, 324,\n",
       "       325, 326, 327, 328, 329, 330, 331, 332, 333, 334, 335, 336, 337,\n",
       "       338, 339, 340, 341, 342, 343, 344, 345, 346, 347, 348, 349, 350,\n",
       "       351, 352, 353, 354, 355, 356, 357, 358, 359, 360, 361, 362, 363, 364])"
      ]
     },
     "execution_count": 17,
     "metadata": {},
     "output_type": "execute_result"
    }
   ],
   "source": [
    "# explanation of summer_days expression\n",
    "np.arange(365)\n",
    "# gives an array of elements 0 to 364"
   ]
  },
  {
   "cell_type": "code",
   "execution_count": 18,
   "metadata": {
    "collapsed": false
   },
   "outputs": [
    {
     "data": {
      "text/plain": [
       "array([-172, -171, -170, -169, -168, -167, -166, -165, -164, -163, -162,\n",
       "       -161, -160, -159, -158, -157, -156, -155, -154, -153, -152, -151,\n",
       "       -150, -149, -148, -147, -146, -145, -144, -143, -142, -141, -140,\n",
       "       -139, -138, -137, -136, -135, -134, -133, -132, -131, -130, -129,\n",
       "       -128, -127, -126, -125, -124, -123, -122, -121, -120, -119, -118,\n",
       "       -117, -116, -115, -114, -113, -112, -111, -110, -109, -108, -107,\n",
       "       -106, -105, -104, -103, -102, -101, -100,  -99,  -98,  -97,  -96,\n",
       "        -95,  -94,  -93,  -92,  -91,  -90,  -89,  -88,  -87,  -86,  -85,\n",
       "        -84,  -83,  -82,  -81,  -80,  -79,  -78,  -77,  -76,  -75,  -74,\n",
       "        -73,  -72,  -71,  -70,  -69,  -68,  -67,  -66,  -65,  -64,  -63,\n",
       "        -62,  -61,  -60,  -59,  -58,  -57,  -56,  -55,  -54,  -53,  -52,\n",
       "        -51,  -50,  -49,  -48,  -47,  -46,  -45,  -44,  -43,  -42,  -41,\n",
       "        -40,  -39,  -38,  -37,  -36,  -35,  -34,  -33,  -32,  -31,  -30,\n",
       "        -29,  -28,  -27,  -26,  -25,  -24,  -23,  -22,  -21,  -20,  -19,\n",
       "        -18,  -17,  -16,  -15,  -14,  -13,  -12,  -11,  -10,   -9,   -8,\n",
       "         -7,   -6,   -5,   -4,   -3,   -2,   -1,    0,    1,    2,    3,\n",
       "          4,    5,    6,    7,    8,    9,   10,   11,   12,   13,   14,\n",
       "         15,   16,   17,   18,   19,   20,   21,   22,   23,   24,   25,\n",
       "         26,   27,   28,   29,   30,   31,   32,   33,   34,   35,   36,\n",
       "         37,   38,   39,   40,   41,   42,   43,   44,   45,   46,   47,\n",
       "         48,   49,   50,   51,   52,   53,   54,   55,   56,   57,   58,\n",
       "         59,   60,   61,   62,   63,   64,   65,   66,   67,   68,   69,\n",
       "         70,   71,   72,   73,   74,   75,   76,   77,   78,   79,   80,\n",
       "         81,   82,   83,   84,   85,   86,   87,   88,   89,   90,   91,\n",
       "         92,   93,   94,   95,   96,   97,   98,   99,  100,  101,  102,\n",
       "        103,  104,  105,  106,  107,  108,  109,  110,  111,  112,  113,\n",
       "        114,  115,  116,  117,  118,  119,  120,  121,  122,  123,  124,\n",
       "        125,  126,  127,  128,  129,  130,  131,  132,  133,  134,  135,\n",
       "        136,  137,  138,  139,  140,  141,  142,  143,  144,  145,  146,\n",
       "        147,  148,  149,  150,  151,  152,  153,  154,  155,  156,  157,\n",
       "        158,  159,  160,  161,  162,  163,  164,  165,  166,  167,  168,\n",
       "        169,  170,  171,  172,  173,  174,  175,  176,  177,  178,  179,\n",
       "        180,  181,  182,  183,  184,  185,  186,  187,  188,  189,  190,\n",
       "        191,  192])"
      ]
     },
     "execution_count": 18,
     "metadata": {},
     "output_type": "execute_result"
    }
   ],
   "source": [
    "np.arange(365)-172\n",
    "# to 'move' elem 0 at day 172"
   ]
  },
  {
   "cell_type": "code",
   "execution_count": 19,
   "metadata": {
    "collapsed": false
   },
   "outputs": [
    {
     "data": {
      "text/plain": [
       "array([False, False, False, False, False, False, False, False, False,\n",
       "       False, False, False, False, False, False, False, False, False,\n",
       "       False, False, False, False, False, False, False, False, False,\n",
       "       False, False, False, False, False, False, False, False, False,\n",
       "       False, False, False, False, False, False, False, False, False,\n",
       "       False, False, False, False, False, False, False, False, False,\n",
       "       False, False, False, False, False, False, False, False, False,\n",
       "       False, False, False, False, False, False, False, False, False,\n",
       "       False, False, False, False, False, False, False, False, False,\n",
       "       False, False, False, False, False, False, False, False, False,\n",
       "       False, False, False, False, False, False, False, False, False,\n",
       "       False, False, False, False, False, False, False, False, False,\n",
       "       False, False, False, False, False, False, False, False, False,\n",
       "       False, False, False, False, False, False, False, False, False,\n",
       "       False, False, False, False, False, False, False, False, False,\n",
       "       False, False, False, False, False, False, False, False, False,\n",
       "       False, False, False, False, False, False, False, False, False,\n",
       "       False, False, False, False, False, False, False, False, False,\n",
       "       False, False, False, False, False, False, False, False, False,\n",
       "       False, False,  True,  True,  True,  True,  True,  True,  True,\n",
       "        True,  True,  True,  True,  True,  True,  True,  True,  True,\n",
       "        True,  True,  True,  True,  True,  True,  True,  True,  True,\n",
       "        True,  True,  True,  True,  True,  True,  True,  True,  True,\n",
       "        True,  True,  True,  True,  True,  True,  True,  True,  True,\n",
       "        True,  True,  True,  True,  True,  True,  True,  True,  True,\n",
       "        True,  True,  True,  True,  True,  True,  True,  True,  True,\n",
       "        True,  True,  True,  True,  True,  True,  True,  True,  True,\n",
       "        True,  True,  True,  True,  True,  True,  True,  True,  True,\n",
       "        True,  True,  True,  True,  True,  True,  True,  True,  True,\n",
       "        True, False, False, False, False, False, False, False, False,\n",
       "       False, False, False, False, False, False, False, False, False,\n",
       "       False, False, False, False, False, False, False, False, False,\n",
       "       False, False, False, False, False, False, False, False, False,\n",
       "       False, False, False, False, False, False, False, False, False,\n",
       "       False, False, False, False, False, False, False, False, False,\n",
       "       False, False, False, False, False, False, False, False, False,\n",
       "       False, False, False, False, False, False, False, False, False,\n",
       "       False, False, False, False, False, False, False, False, False,\n",
       "       False, False, False, False, False, False, False, False, False,\n",
       "       False, False, False, False, False, False, False, False, False,\n",
       "       False, False, False, False, False], dtype=bool)"
      ]
     },
     "execution_count": 19,
     "metadata": {},
     "output_type": "execute_result"
    }
   ],
   "source": [
    "# June 21st is 172th days of the year, and I am counting 90 days for summer\n",
    "summer_days= (np.arange(365)-172 <90) & (np.arange(365)-172>0)\n",
    "summer_days\n",
    "# from an array of numbers 0 to 364 i subtract 172 so that my number will be 0 at day 172 (21st June)\n",
    "# and from there they will increase (and I will consider numbers up to 90)\n",
    "# (before 172 the numbers will be negative)"
   ]
  },
  {
   "cell_type": "markdown",
   "metadata": {
    "collapsed": true
   },
   "source": [
    "---"
   ]
  },
  {
   "cell_type": "code",
   "execution_count": 20,
   "metadata": {
    "collapsed": true
   },
   "outputs": [],
   "source": [
    "# Q7: maximum precip on summer days in 2014 (inches)\n",
    "# Q8: media precip on non-summer rainy days (inches)"
   ]
  },
  {
   "cell_type": "code",
   "execution_count": 22,
   "metadata": {
    "collapsed": false
   },
   "outputs": [
    {
     "data": {
      "text/plain": [
       "8.5039370078740166"
      ]
     },
     "execution_count": 22,
     "metadata": {},
     "output_type": "execute_result"
    }
   ],
   "source": [
    "# Q7:\n",
    "q7_max_summ = np.max(q1_rain_inch[rainy_days & summer_days])\n",
    "q7_max_summ"
   ]
  },
  {
   "cell_type": "code",
   "execution_count": 23,
   "metadata": {
    "collapsed": false
   },
   "outputs": [
    {
     "data": {
      "text/plain": [
       "array([  0,   1,   2,   3,   4,   5,   6,   7,   8,   9,  10,  11,  12,\n",
       "        13,  14,  15,  16,  17,  18,  19,  20,  21,  22,  23,  24,  25,\n",
       "        26,  27,  28,  29,  30,  31,  32,  33,  34,  35,  36,  37,  38,\n",
       "        39,  40,  41,  42,  43,  44,  45,  46,  47,  48,  49,  50,  51,\n",
       "        52,  53,  54,  55,  56,  57,  58,  59,  60,  61,  62,  63,  64,\n",
       "        65,  66,  67,  68,  69,  70,  71,  72,  73,  74,  75,  76,  77,\n",
       "        78,  79,  80,  81,  82,  83,  84,  85,  86,  87,  88,  89,  90,\n",
       "        91,  92,  93,  94,  95,  96,  97,  98,  99, 100, 101, 102, 103,\n",
       "       104, 105, 106, 107, 108, 109, 110, 111, 112, 113, 114, 115, 116,\n",
       "       117, 118, 119, 120, 121, 122, 123, 124, 125, 126, 127, 128, 129,\n",
       "       130, 131, 132, 133, 134, 135, 136, 137, 138, 139, 140, 141, 142,\n",
       "       143, 144, 145, 146, 147, 148, 149, 150, 151, 152, 153, 154, 155,\n",
       "       156, 157, 158, 159, 160, 161, 162, 163, 164, 165, 166, 167, 168,\n",
       "       169, 170, 171, 172, 173, 174, 175, 176, 177, 178, 179, 180, 181,\n",
       "       182, 183, 184, 185, 186, 187, 188, 189, 190, 191, 192, 193, 194,\n",
       "       195, 196, 197, 198, 199, 200, 201, 202, 203, 204, 205, 206, 207,\n",
       "       208, 209, 210, 211, 212, 213, 214, 215, 216, 217, 218, 219, 220,\n",
       "       221, 222, 223, 224, 225, 226, 227, 228, 229, 230, 231, 232, 233,\n",
       "       234, 235, 236, 237, 238, 239, 240, 241, 242, 243, 244, 245, 246,\n",
       "       247, 248, 249, 250, 251, 252, 253, 254, 255, 256, 257, 258, 259,\n",
       "       260, 261, 262, 263, 264, 265, 266, 267, 268, 269, 270, 271, 272,\n",
       "       273, 274, 275, 276, 277, 278, 279, 280, 281, 282, 283, 284, 285,\n",
       "       286, 287, 288, 289, 290, 291, 292, 293, 294, 295, 296, 297, 298,\n",
       "       299, 300, 301, 302, 303, 304, 305, 306, 307, 308, 309, 310, 311,\n",
       "       312, 313, 314, 315, 316, 317, 318, 319, 320, 321, 322, 323, 324,\n",
       "       325, 326, 327, 328, 329, 330, 331, 332, 333, 334, 335, 336, 337,\n",
       "       338, 339, 340, 341, 342, 343, 344, 345, 346, 347, 348, 349, 350,\n",
       "       351, 352, 353, 354, 355, 356, 357, 358, 359, 360, 361, 362, 363, 364])"
      ]
     },
     "execution_count": 23,
     "metadata": {},
     "output_type": "execute_result"
    }
   ],
   "source": [
    "# Q8\n",
    "# first i want to establish non summer days\n",
    "# above we defined summer_days as\n",
    "# summer_days= (np.arange(365)-172 <90) & (np.arange(365)-172>0)\n",
    "np.arange(365)"
   ]
  },
  {
   "cell_type": "code",
   "execution_count": 24,
   "metadata": {
    "collapsed": false
   },
   "outputs": [
    {
     "data": {
      "text/plain": [
       "array([ True,  True,  True,  True,  True,  True,  True,  True,  True,\n",
       "        True,  True,  True,  True,  True,  True,  True,  True,  True,\n",
       "        True,  True,  True,  True,  True,  True,  True,  True,  True,\n",
       "        True,  True,  True,  True,  True,  True,  True,  True,  True,\n",
       "        True,  True,  True,  True,  True,  True,  True,  True,  True,\n",
       "        True,  True,  True,  True,  True,  True,  True,  True,  True,\n",
       "        True,  True,  True,  True,  True,  True,  True,  True,  True,\n",
       "        True,  True,  True,  True,  True,  True,  True,  True,  True,\n",
       "        True,  True,  True,  True,  True,  True,  True,  True,  True,\n",
       "        True,  True,  True,  True,  True,  True,  True,  True,  True,\n",
       "        True,  True,  True,  True,  True,  True,  True,  True,  True,\n",
       "        True,  True,  True,  True,  True,  True,  True,  True,  True,\n",
       "        True,  True,  True,  True,  True,  True,  True,  True,  True,\n",
       "        True,  True,  True,  True,  True,  True,  True,  True,  True,\n",
       "        True,  True,  True,  True,  True,  True,  True,  True,  True,\n",
       "        True,  True,  True,  True,  True,  True,  True,  True,  True,\n",
       "        True,  True,  True,  True,  True,  True,  True,  True,  True,\n",
       "        True,  True,  True,  True,  True,  True,  True,  True,  True,\n",
       "        True,  True,  True,  True,  True,  True,  True,  True,  True,\n",
       "        True,  True, False, False, False, False, False, False, False,\n",
       "       False, False, False, False, False, False, False, False, False,\n",
       "       False, False, False, False, False, False, False, False, False,\n",
       "       False, False, False, False, False, False, False, False, False,\n",
       "       False, False, False, False, False, False, False, False, False,\n",
       "       False, False, False, False, False, False, False, False, False,\n",
       "       False, False, False, False, False, False, False, False, False,\n",
       "       False, False, False, False, False, False, False, False, False,\n",
       "       False, False, False, False, False, False, False, False, False,\n",
       "       False, False, False, False, False, False, False, False, False,\n",
       "       False, False,  True,  True,  True,  True,  True,  True,  True,\n",
       "        True,  True,  True,  True,  True,  True,  True,  True,  True,\n",
       "        True,  True,  True,  True,  True,  True,  True,  True,  True,\n",
       "        True,  True,  True,  True,  True,  True,  True,  True,  True,\n",
       "        True,  True,  True,  True,  True,  True,  True,  True,  True,\n",
       "        True,  True,  True,  True,  True,  True,  True,  True,  True,\n",
       "        True,  True,  True,  True,  True,  True,  True,  True,  True,\n",
       "        True,  True,  True,  True,  True,  True,  True,  True,  True,\n",
       "        True,  True,  True,  True,  True,  True,  True,  True,  True,\n",
       "        True,  True,  True,  True,  True,  True,  True,  True,  True,\n",
       "        True,  True,  True,  True,  True,  True,  True,  True,  True,\n",
       "        True,  True,  True,  True,  True], dtype=bool)"
      ]
     },
     "execution_count": 24,
     "metadata": {},
     "output_type": "execute_result"
    }
   ],
   "source": [
    "# my no summer days will be days 0 to 172 and then (172+90) from 262 till end\n",
    "days_bef_summer = (np.arange(365) < 173)\n",
    "days_aft_summer = (np.arange(365) > 262)\n",
    "no_summer_days = np.logical_or(days_bef_summer,days_aft_summer)\n",
    "no_summer_days"
   ]
  },
  {
   "cell_type": "code",
   "execution_count": 25,
   "metadata": {
    "collapsed": false
   },
   "outputs": [
    {
     "data": {
      "text/plain": [
       "2.0078740157480315"
      ]
     },
     "execution_count": 25,
     "metadata": {},
     "output_type": "execute_result"
    }
   ],
   "source": [
    "rainy_days = (q1_rain_inch>0)\n",
    "np.median(q1_rain_inch[rainy_days & no_summer_days])"
   ]
  }
 ],
 "metadata": {
  "kernelspec": {
   "display_name": "Python 3",
   "language": "python",
   "name": "python3"
  },
  "language_info": {
   "codemirror_mode": {
    "name": "ipython",
    "version": 3
   },
   "file_extension": ".py",
   "mimetype": "text/x-python",
   "name": "python",
   "nbconvert_exporter": "python",
   "pygments_lexer": "ipython3",
   "version": "3.6.0"
  }
 },
 "nbformat": 4,
 "nbformat_minor": 2
}
